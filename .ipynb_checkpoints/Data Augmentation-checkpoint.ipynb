{
 "cells": [
  {
   "cell_type": "code",
   "execution_count": 1,
   "metadata": {},
   "outputs": [],
   "source": [
    "import os, random\n",
    "import shutil\n",
    "import os\n",
    "import cv2\n",
    "from PIL import Image, ImageEnhance\n",
    "import random\n",
    "from skimage.util import random_noise\n",
    "import numpy as np"
   ]
  },
  {
   "cell_type": "code",
   "execution_count": 8,
   "metadata": {},
   "outputs": [
    {
     "ename": "FileNotFoundError",
     "evalue": "[WinError 3] The system cannot find the path specified: 'C:\\\\Users\\\\Andre\\\\Desktop\\\\Data MSc thesis\\\\Test data\\\\test\\\\test_27m_0deg_center_bank_TEST\\\\0 - No Plastic'",
     "output_type": "error",
     "traceback": [
      "\u001b[1;31m---------------------------------------------------------------------------\u001b[0m",
      "\u001b[1;31mFileNotFoundError\u001b[0m                         Traceback (most recent call last)",
      "\u001b[1;32m<ipython-input-8-cc8608da42a9>\u001b[0m in \u001b[0;36m<module>\u001b[1;34m\u001b[0m\n\u001b[0;32m      4\u001b[0m \u001b[0mdst_dir\u001b[0m \u001b[1;33m=\u001b[0m \u001b[1;34mr\"C:\\Users\\Andre\\Desktop\\Data MSc thesis\\Test data\\test\\test_27m_0deg_center_bank_VAL\\0 - No Plastic\"\u001b[0m\u001b[1;33m\u001b[0m\u001b[1;33m\u001b[0m\u001b[0m\n\u001b[0;32m      5\u001b[0m \u001b[1;33m\u001b[0m\u001b[0m\n\u001b[1;32m----> 6\u001b[1;33m \u001b[0mfile_list\u001b[0m \u001b[1;33m=\u001b[0m \u001b[0mos\u001b[0m\u001b[1;33m.\u001b[0m\u001b[0mlistdir\u001b[0m\u001b[1;33m(\u001b[0m\u001b[0msrc_dir\u001b[0m\u001b[1;33m)\u001b[0m\u001b[1;33m\u001b[0m\u001b[1;33m\u001b[0m\u001b[0m\n\u001b[0m\u001b[0;32m      7\u001b[0m \u001b[1;33m\u001b[0m\u001b[0m\n\u001b[0;32m      8\u001b[0m \u001b[1;32mfor\u001b[0m \u001b[0mi\u001b[0m \u001b[1;32min\u001b[0m \u001b[0mrange\u001b[0m\u001b[1;33m(\u001b[0m\u001b[0mm\u001b[0m\u001b[1;33m)\u001b[0m\u001b[1;33m:\u001b[0m\u001b[1;33m\u001b[0m\u001b[1;33m\u001b[0m\u001b[0m\n",
      "\u001b[1;31mFileNotFoundError\u001b[0m: [WinError 3] The system cannot find the path specified: 'C:\\\\Users\\\\Andre\\\\Desktop\\\\Data MSc thesis\\\\Test data\\\\test\\\\test_27m_0deg_center_bank_TEST\\\\0 - No Plastic'"
     ]
    }
   ],
   "source": [
    "m = 145\n",
    "\n",
    "src_dir = r\"C:\\Users\\Andre\\Desktop\\Data MSc thesis\\Test data\\test\\test_27m_0deg_center_bank_TEST\\0 - No Plastic\"\n",
    "dst_dir = r\"C:\\Users\\Andre\\Desktop\\Data MSc thesis\\Test data\\test\\test_27m_0deg_center_bank_VAL\\0 - No Plastic\"\n",
    "\n",
    "file_list = os.listdir(src_dir)\n",
    "\n",
    "for i in range(m):\n",
    "    a = random.choice(file_list)\n",
    "    file_list.remove(a)\n",
    "    shutil.copy(src_dir + '/' + a, dst_dir + '/' + a)\n",
    "    os.remove(src_dir + '/' + a)"
   ]
  },
  {
   "cell_type": "markdown",
   "metadata": {},
   "source": [
    "# Data Augmentation - FLIPPING"
   ]
  },
  {
   "cell_type": "code",
   "execution_count": 4,
   "metadata": {},
   "outputs": [],
   "source": [
    "ROOT_FOLDER = r'C:\\Users\\Andre\\Desktop\\Data MSc thesis\\Training data\\train_all_exc_27m_0deg'\n",
    "folders = os.listdir(ROOT_FOLDER)\n",
    "\n",
    "srs_path = r'C:\\Users\\Andre\\Desktop\\Data MSc thesis\\Training data\\train_all_exc_27m_0deg'\n",
    "dst_path = r'C:\\Users\\Andre\\Desktop\\Data MSc thesis\\Training data\\Data Aug NEW_all_heights_exc_27m_0deg\\train_3_center_bank_DA_HV'\n",
    "\n",
    "for folder in folders:\n",
    "    srs_dir = srs_path + '/' + folder\n",
    "    dst_dir = dst_path + '/' + folder\n",
    "    files = os.listdir(srs_dir)\n",
    "    for file in files:\n",
    "        img = cv2.imread(srs_dir + '/' + str(file))\n",
    "        ver_img = cv2.flip(img, 0)\n",
    "        hor_img = cv2.flip(img, 1)\n",
    "        hor_ver_img = cv2.flip(img, -1)\n",
    "        cv2.imwrite(dst_dir + '/' + str(file) + '_ver_flip' + '.jpg', ver_img)\n",
    "        cv2.imwrite(dst_dir + '/' + str(file) + '_hor_flip' + '.jpg', hor_img)\n",
    "        cv2.imwrite(dst_dir + '/' + str(file) + '_hor_ver_flip' + '.jpg', hor_ver_img)\n",
    "        shutil.copyfile(srs_dir + '/' + str(file), dst_dir + '/' + str(file))"
   ]
  },
  {
   "cell_type": "markdown",
   "metadata": {},
   "source": [
    "# Data Augmentation - Brightness variation"
   ]
  },
  {
   "cell_type": "code",
   "execution_count": 5,
   "metadata": {},
   "outputs": [],
   "source": [
    "ROOT_FOLDER = r'C:\\Users\\Andre\\Desktop\\Data MSc thesis\\Training data\\train_all_exc_27m_0deg'\n",
    "folders = os.listdir(ROOT_FOLDER)\n",
    "\n",
    "srs_path = r'C:\\Users\\Andre\\Desktop\\Data MSc thesis\\Training data\\train_all_exc_27m_0deg'\n",
    "dst_path = r'C:\\Users\\Andre\\Desktop\\Data MSc thesis\\Training data\\Data Aug NEW_all_heights_exc_27m_0deg\\train_3_center_bank_DA_BR'\n",
    "\n",
    "for folder in folders:\n",
    "    srs_dir = srs_path + '/' + folder\n",
    "    dst_dir = dst_path + '/' + folder\n",
    "    files = os.listdir(srs_dir)\n",
    "    for file in files:\n",
    "        img = Image.open(srs_dir + '/' + str(file))\n",
    "        bright_enhancer = ImageEnhance.Brightness(img)\n",
    "        new_image_1 = bright_enhancer.enhance(random.uniform(1.1, 1.4))\n",
    "        new_image_2 = bright_enhancer.enhance(random.uniform(1.1, 1.4))\n",
    "        new_image_3 = bright_enhancer.enhance(random.uniform(1.1, 1.4))\n",
    "        new_image_1.save(dst_dir + '/' + str(file) + '_bright_1' + '.jpg')\n",
    "        new_image_2.save(dst_dir + '/' + str(file) + '_bright_2' + '.jpg')\n",
    "        new_image_3.save(dst_dir + '/' + str(file) + '_bright_3' + '.jpg')\n",
    "        shutil.copyfile(srs_dir + '/' + str(file), dst_dir + '/' + str(file))"
   ]
  },
  {
   "cell_type": "markdown",
   "metadata": {},
   "source": [
    "# Data Augmentation - Darkness variation"
   ]
  },
  {
   "cell_type": "code",
   "execution_count": 8,
   "metadata": {},
   "outputs": [],
   "source": [
    "ROOT_FOLDER = r'C:\\Users\\Andre\\Desktop\\Data MSc thesis\\Training data\\train_27m_0deg_center_bank'\n",
    "folders = os.listdir(ROOT_FOLDER)\n",
    "\n",
    "srs_path = r'C:\\Users\\Andre\\Desktop\\Data MSc thesis\\Training data\\train_27m_0deg_center_bank'\n",
    "dst_path = r'C:\\Users\\Andre\\Desktop\\Data MSc thesis\\Training data\\Data Aug NEW_27m_0deg\\train_27m_0deg_center_bank_DA_DARK'\n",
    "\n",
    "for folder in folders:\n",
    "    srs_dir = srs_path + '/' + folder\n",
    "    dst_dir = dst_path + '/' + folder\n",
    "    files = os.listdir(srs_dir)\n",
    "    for file in files:\n",
    "        img = Image.open(srs_dir + '/' + str(file))\n",
    "        bright_enhancer = ImageEnhance.Brightness(img)\n",
    "        new_image_1 = bright_enhancer.enhance(random.uniform(0.6, 0.9))\n",
    "        new_image_2 = bright_enhancer.enhance(random.uniform(0.6, 0.9))\n",
    "        new_image_3 = bright_enhancer.enhance(random.uniform(0.6, 0.9))\n",
    "        new_image_1.save(dst_dir + '/' + str(file) + '_dark_1' + '.jpg')\n",
    "        new_image_2.save(dst_dir + '/' + str(file) + '_dark_2' + '.jpg')\n",
    "        new_image_3.save(dst_dir + '/' + str(file) + '_dark_3' + '.jpg')\n",
    "        shutil.copyfile(srs_dir + '/' + str(file), dst_dir + '/' + str(file))"
   ]
  },
  {
   "cell_type": "markdown",
   "metadata": {},
   "source": [
    "# Data Augmentation - Salt and Pepper noise"
   ]
  },
  {
   "cell_type": "code",
   "execution_count": 7,
   "metadata": {},
   "outputs": [],
   "source": [
    "ROOT_FOLDER =  r'C:\\Users\\Andre\\Desktop\\Data MSc thesis\\Training data\\train_all_exc_27m_0deg'\n",
    "folders = os.listdir(ROOT_FOLDER)\n",
    "\n",
    "srs_path = r'C:\\Users\\Andre\\Desktop\\Data MSc thesis\\Training data\\train_all_exc_27m_0deg'\n",
    "dst_path = r'C:\\Users\\Andre\\Desktop\\Data MSc thesis\\Training data\\Data Aug NEW_all_heights_exc_27m_0deg\\train_3_center_bank_DA_NI'\n",
    "\n",
    "for folder in folders:\n",
    "    srs_dir = srs_path + '/' + folder\n",
    "    dst_dir = dst_path + '/' + folder\n",
    "    files = os.listdir(srs_dir)\n",
    "    for file in files:\n",
    "        img = cv2.imread(srs_dir + '/' + str(file))\n",
    "        noise_img_1 = random_noise(img, mode='s&p', amount=random.uniform(0.01, 0.15))\n",
    "        noise_img_1 = np.array(255*noise_img_1, dtype = 'uint8')\n",
    "        noise_img_2 = random_noise(img, mode='s&p', amount=random.uniform(0.01, 0.15))\n",
    "        noise_img_2 = np.array(255*noise_img_2, dtype = 'uint8')\n",
    "        noise_img_3 = random_noise(img, mode='s&p', amount=random.uniform(0.01, 0.15))\n",
    "        noise_img_3 = np.array(255*noise_img_3, dtype = 'uint8')\n",
    "        cv2.imwrite(dst_dir + '/' + str(file) + '_noise_1' + '.jpg', noise_img_1)\n",
    "        cv2.imwrite(dst_dir + '/' + str(file) + '_noise_2' + '.jpg', noise_img_2)\n",
    "        cv2.imwrite(dst_dir + '/' + str(file) + '_noise_3' + '.jpg', noise_img_3)\n",
    "        shutil.copyfile(srs_dir + '/' + str(file), dst_dir + '/' + str(file))"
   ]
  },
  {
   "cell_type": "code",
   "execution_count": null,
   "metadata": {},
   "outputs": [],
   "source": [
    "# Read in the file\n",
    "with open('file.txt', 'r') as file :\n",
    "  filedata = file.read()\n",
    "\n",
    "# Replace the target string\n",
    "filedata = filedata.replace('ram', 'abcd')\n",
    "\n",
    "# Write the file out again\n",
    "with open('file.txt', 'w') as file:\n",
    "  file.write(filedata)"
   ]
  },
  {
   "cell_type": "code",
   "execution_count": 2,
   "metadata": {},
   "outputs": [
    {
     "ename": "ModuleNotFoundError",
     "evalue": "No module named 'tensorflow'",
     "output_type": "error",
     "traceback": [
      "\u001b[1;31m---------------------------------------------------------------------------\u001b[0m",
      "\u001b[1;31mModuleNotFoundError\u001b[0m                       Traceback (most recent call last)",
      "\u001b[1;32m<ipython-input-2-415799364398>\u001b[0m in \u001b[0;36m<module>\u001b[1;34m\u001b[0m\n\u001b[0;32m      1\u001b[0m \u001b[1;32mimport\u001b[0m \u001b[0mnumpy\u001b[0m \u001b[1;32mas\u001b[0m \u001b[0mnp\u001b[0m\u001b[1;33m\u001b[0m\u001b[1;33m\u001b[0m\u001b[0m\n\u001b[1;32m----> 2\u001b[1;33m \u001b[1;32mimport\u001b[0m \u001b[0mtensorflow\u001b[0m \u001b[1;32mas\u001b[0m \u001b[0mtf\u001b[0m\u001b[1;33m\u001b[0m\u001b[1;33m\u001b[0m\u001b[0m\n\u001b[0m\u001b[0;32m      3\u001b[0m \u001b[1;32mfrom\u001b[0m \u001b[0mtensorflow\u001b[0m\u001b[1;33m.\u001b[0m\u001b[0mkeras\u001b[0m\u001b[1;33m.\u001b[0m\u001b[0mpreprocessing\u001b[0m\u001b[1;33m.\u001b[0m\u001b[0mimage\u001b[0m \u001b[1;32mimport\u001b[0m \u001b[0mload_img\u001b[0m\u001b[1;33m,\u001b[0m \u001b[0mimg_to_array\u001b[0m\u001b[1;33m\u001b[0m\u001b[1;33m\u001b[0m\u001b[0m\n\u001b[0;32m      4\u001b[0m \u001b[1;32mfrom\u001b[0m \u001b[0mtensorflow\u001b[0m\u001b[1;33m.\u001b[0m\u001b[0mkeras\u001b[0m\u001b[1;33m.\u001b[0m\u001b[0mpreprocessing\u001b[0m\u001b[1;33m.\u001b[0m\u001b[0mimage\u001b[0m \u001b[1;32mimport\u001b[0m \u001b[0mImageDataGenerator\u001b[0m\u001b[1;33m\u001b[0m\u001b[1;33m\u001b[0m\u001b[0m\n\u001b[0;32m      5\u001b[0m \u001b[1;32mimport\u001b[0m \u001b[0mmatplotlib\u001b[0m\u001b[1;33m.\u001b[0m\u001b[0mpyplot\u001b[0m \u001b[1;32mas\u001b[0m \u001b[0mplt\u001b[0m\u001b[1;33m\u001b[0m\u001b[1;33m\u001b[0m\u001b[0m\n",
      "\u001b[1;31mModuleNotFoundError\u001b[0m: No module named 'tensorflow'"
     ]
    }
   ],
   "source": [
    "import numpy as np\n",
    "import tensorflow as tf\n",
    "from tensorflow.keras.preprocessing.image import load_img, img_to_array\n",
    "from tensorflow.keras.preprocessing.image import ImageDataGenerator\n",
    "import matplotlib.pyplot as plt\n",
    "import requests\n",
    "import random"
   ]
  },
  {
   "cell_type": "code",
   "execution_count": null,
   "metadata": {},
   "outputs": [],
   "source": [
    " "
   ]
  }
 ],
 "metadata": {
  "kernelspec": {
   "display_name": "Python 3 (ipykernel)",
   "language": "python",
   "name": "python3"
  },
  "language_info": {
   "codemirror_mode": {
    "name": "ipython",
    "version": 3
   },
   "file_extension": ".py",
   "mimetype": "text/x-python",
   "name": "python",
   "nbconvert_exporter": "python",
   "pygments_lexer": "ipython3",
   "version": "3.9.7"
  },
  "toc": {
   "base_numbering": 1,
   "nav_menu": {},
   "number_sections": true,
   "sideBar": true,
   "skip_h1_title": false,
   "title_cell": "Table of Contents",
   "title_sidebar": "Contents",
   "toc_cell": false,
   "toc_position": {},
   "toc_section_display": true,
   "toc_window_display": false
  }
 },
 "nbformat": 4,
 "nbformat_minor": 4
}
