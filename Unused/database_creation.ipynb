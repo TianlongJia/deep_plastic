{
 "cells": [
  {
   "cell_type": "markdown",
   "id": "f346a330",
   "metadata": {},
   "source": [
    "# Dataset creation"
   ]
  },
  {
   "cell_type": "markdown",
   "id": "44b67c71",
   "metadata": {},
   "source": [
    "## Imports"
   ]
  },
  {
   "cell_type": "code",
   "execution_count": null,
   "id": "bec8b129",
   "metadata": {},
   "outputs": [],
   "source": [
    "#Basic\n",
    "import os\n",
    "import wntr\n",
    "import pandas as pd\n",
    "import numpy as np\n",
    "import pickle\n",
    "import networkx as nx\n",
    "import time\n",
    "\n",
    "#WNTR\n",
    "import wntr\n",
    "\n",
    "#torch and PyG\n",
    "import torch\n",
    "#from torch_geometric.data import Data\n",
    "from torch_geometric.utils import convert\n",
    "\n",
    "#Utilities\n",
    "from database_fn import *\n",
    "\n",
    "#Window explorer for the file\n",
    "from tkinter import Tk     # from tkinter import Tk for Python 3.x\n",
    "from tkinter.filedialog import askopenfilename"
   ]
  },
  {
   "cell_type": "markdown",
   "id": "7435ed2c",
   "metadata": {},
   "source": [
    "## Loading inp"
   ]
  },
  {
   "cell_type": "code",
   "execution_count": null,
   "id": "fd861325",
   "metadata": {},
   "outputs": [],
   "source": [
    "Tk().withdraw() \n",
    "inp_file_path = askopenfilename(title='Select a network', filetypes=[('inp files', '*.inp')]) # show an \"Open\" dialog box and return the path to the selected file\n",
    "print(inp_file_path)\n",
    "\n",
    "wdn_name = inp_file_path[-7:-4]"
   ]
  },
  {
   "cell_type": "code",
   "execution_count": null,
   "id": "7a4fa843",
   "metadata": {},
   "outputs": [],
   "source": [
    "wn_WDS, _, _ = load_inp(inp_file_path)"
   ]
  },
  {
   "cell_type": "markdown",
   "id": "3cd6551b",
   "metadata": {
    "execution": {
     "iopub.execute_input": "2021-03-19T15:17:14.189124Z",
     "iopub.status.busy": "2021-03-19T15:17:14.189124Z",
     "iopub.status.idle": "2021-03-19T15:17:14.194079Z",
     "shell.execute_reply": "2021-03-19T15:17:14.194079Z",
     "shell.execute_reply.started": "2021-03-19T15:17:14.189124Z"
    }
   },
   "source": [
    "## Information of the network\n",
    "Available diameters, units factor to meters, and minimum pressure at each node.\n",
    "CSV file"
   ]
  },
  {
   "cell_type": "code",
   "execution_count": null,
   "id": "3a530e2c",
   "metadata": {},
   "outputs": [],
   "source": [
    "csv_file_path = inp_file_path[:-4]+'_info.csv\n",
    "print(csv_file_path)"
   ]
  },
  {
   "cell_type": "code",
   "execution_count": null,
   "id": "3589ee14",
   "metadata": {},
   "outputs": [],
   "source": [
    "avail_diams, min_pres, UNIT_TO_M = diams_min_pres(csv_file_path)"
   ]
  },
  {
   "cell_type": "markdown",
   "id": "a954c1e0",
   "metadata": {},
   "source": [
    "## Database creation"
   ]
  },
  {
   "cell_type": "code",
   "execution_count": null,
   "id": "7345feb7",
   "metadata": {},
   "outputs": [],
   "source": [
    "num_pipes = wn_WDS.num_pipes\n",
    "pipe_names = wn_WDS.link_name_list\n",
    "\n",
    "seed = 1234567\n",
    "np.random.seed(seed)\n",
    "\n",
    "all_geom_data = [] # geometric data\n",
    "fail_DB = []\n",
    "N_iter = 5000\n",
    "sim=0\n",
    "\n",
    "#Optional probability distribution. This one is biased towards the bigger diameters. \n",
    "p = [(i+1)/len(avail_diams) for i in range(len(avail_diams))]\n",
    "p = [p[i]/sum(p) for i in range(len(p))]"
   ]
  },
  {
   "cell_type": "code",
   "execution_count": null,
   "id": "0c0c38cb",
   "metadata": {
    "scrolled": true
   },
   "outputs": [],
   "source": [
    "start = time.time()\n",
    "while len(all_geom_data)<N_iter and len(fail_DB)<N_iter:\n",
    "    \n",
    "    # echo on screen\n",
    "    if sim % 500 == 0 or sim == N_iter-1:\n",
    "        print(f'iter: {sim}')\n",
    "  \n",
    "    # assign diameters    \n",
    "    new_diams = np.random.choice(avail_diams, num_pipes, replace= True, p = p)\n",
    "    new_diams = new_diams * UNIT_TO_M\n",
    "    \n",
    "    for i in range(num_pipes):\n",
    "        c_pipe = wn_WDS.get_link(pipe_names[i])\n",
    "        c_pipe.diameter = new_diams[i]\n",
    "    \n",
    "    # run the simulation\n",
    "    try:\n",
    "    # Simulate hydraulics\n",
    "        sim_WDS = wntr.sim.EpanetSimulator(wn_WDS)\n",
    "        results_WDS = sim_WDS.run_sim()\n",
    "        flowrate = 0 #There are no pumps\n",
    "        \n",
    "        RI_PP = PP_index(results_WDS.node['head'], results_WDS.node['pressure'], results_WDS.node['demand'], flowrate, wn_WDS, min_pres)\n",
    "        RI_Todini = wntr.metrics.hydraulic.todini_index(results_WDS.node['head'], results_WDS.node['pressure'], results_WDS.node['demand'], flowrate, wn_WDS, min_pres)\n",
    "\n",
    "        \n",
    "        # create PyG Data \n",
    "        data = convert.from_networkx(from_wntr_to_nx(wn_WDS))\n",
    "\n",
    "        #Add diamters for MLP\n",
    "        data.diameters = torch.tensor(new_diams)\n",
    "        \n",
    "        #Add resilience indexes\n",
    "        data.res_Todini = torch.tensor(RI_Todini)\n",
    "        data.res_PP = torch.tensor(RI_PP)\n",
    "        \n",
    "        #Add simulaton results\n",
    "        data.pressure = torch.tensor(results_WDS.node['pressure'].values)\n",
    "        data.demand = torch.tensor(results_WDS.node['demand'].values)\n",
    "        \n",
    "        if data.pressure.min() < -1e-1:\n",
    "            sim+=1\n",
    "            continue\n",
    "            \n",
    "        all_geom_data.append(data)\n",
    "    \n",
    "    except Exception as e:\n",
    "        fail_row = [sim]\n",
    "        fail_row.append(np.round(new_diams/UNIT_TO_M, 0))\n",
    "        fail_row.append(wn_WDS)\n",
    "        fail_row.append(e)\n",
    "        print(e)\n",
    "        fail_DB.append(fail_row)\n",
    "    sim+=1\n",
    "    \n",
    "total_time = time.time() - start\n",
    "print(\"Total simulations: \", sim)"
   ]
  },
  {
   "cell_type": "code",
   "execution_count": null,
   "id": "47a98cf0",
   "metadata": {},
   "outputs": [],
   "source": [
    "all_geom_data[1] #Example of the information of the objects on the list"
   ]
  },
  {
   "cell_type": "markdown",
   "id": "70c4c1f2",
   "metadata": {},
   "source": [
    "## Save the pickle file"
   ]
  },
  {
   "cell_type": "code",
   "execution_count": null,
   "id": "470ce19e",
   "metadata": {},
   "outputs": [],
   "source": [
    "# Datasets folder\n",
    "dir_path = os.getcwd()+'\\Datasets'  \n",
    "\n",
    "print(dir_path)"
   ]
  },
  {
   "cell_type": "code",
   "execution_count": null,
   "id": "623306bd",
   "metadata": {},
   "outputs": [],
   "source": [
    "try:\n",
    "    pickle.dump(all_geom_data,open(f\"{dir_path}\\\\{wdn_name}\\\\{wdn_name}_{N_iter}.p\", \"wb\" ))\n",
    "except OSError:\n",
    "    print (\"Creation of the directory %s failed\" % dir_path)\n",
    "else:\n",
    "    print (\"Successfully created the directory %s \" % dir_path)"
   ]
  },
  {
   "cell_type": "code",
   "execution_count": null,
   "id": "36feb343-06e8-475c-961c-277bc8020cea",
   "metadata": {},
   "outputs": [],
   "source": [
    "#Save computational time\n",
    "with open(f\"{dir_path}\\\\{wdn_name}\\\\time.txt\", 'w') as file:\n",
    "    file.write(str(total_time))"
   ]
  },
  {
   "cell_type": "code",
   "execution_count": null,
   "id": "29816cfa-45a1-4708-a7b6-c8c00247630c",
   "metadata": {},
   "outputs": [],
   "source": []
  }
 ],
 "metadata": {
  "kernelspec": {
   "display_name": "Python 3 (ipykernel)",
   "language": "python",
   "name": "python3"
  },
  "language_info": {
   "codemirror_mode": {
    "name": "ipython",
    "version": 3
   },
   "file_extension": ".py",
   "mimetype": "text/x-python",
   "name": "python",
   "nbconvert_exporter": "python",
   "pygments_lexer": "ipython3",
   "version": "3.9.7"
  },
  "toc": {
   "base_numbering": 1,
   "nav_menu": {},
   "number_sections": true,
   "sideBar": true,
   "skip_h1_title": false,
   "title_cell": "Table of Contents",
   "title_sidebar": "Contents",
   "toc_cell": false,
   "toc_position": {},
   "toc_section_display": true,
   "toc_window_display": false
  }
 },
 "nbformat": 4,
 "nbformat_minor": 5
}
