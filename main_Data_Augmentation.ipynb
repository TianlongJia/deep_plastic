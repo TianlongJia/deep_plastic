{
 "cells": [
  {
   "cell_type": "markdown",
   "metadata": {},
   "source": [
    "# Data augmentation\n",
    "\n",
    "Generate images using data augmentation (flipping, brightness variation, darkness variation, and salt abnd pepper noise)\n"
   ]
  },
  {
   "attachments": {},
   "cell_type": "markdown",
   "metadata": {},
   "source": [
    "## Importing modules"
   ]
  },
  {
   "cell_type": "code",
   "execution_count": 1,
   "metadata": {},
   "outputs": [],
   "source": [
    "from utils.miscellaneous import read_config\n",
    "import shutil\n",
    "import os\n",
    "import cv2\n",
    "from PIL import Image, ImageEnhance\n",
    "import random\n",
    "from skimage.util import random_noise\n",
    "import numpy as np"
   ]
  },
  {
   "cell_type": "markdown",
   "metadata": {},
   "source": [
    "## Initializations"
   ]
  },
  {
   "cell_type": "code",
   "execution_count": 2,
   "metadata": {},
   "outputs": [
    {
     "data": {
      "text/plain": [
       "['0 - No Plastic',\n",
       " '1 - Little Plastic',\n",
       " '2 - Moderate Plastic',\n",
       " '3 - Lot Plastic']"
      ]
     },
     "execution_count": 2,
     "metadata": {},
     "output_type": "execute_result"
    }
   ],
   "source": [
    "# read config files\n",
    "cfg = read_config('./config.yaml')\n",
    "\n",
    "# Define the rooter path\n",
    "rooter_path_DA = cfg['rooter_path_DA']\n",
    "\n",
    "folders = os.listdir(rooter_path_DA)\n",
    "folders"
   ]
  },
  {
   "cell_type": "code",
   "execution_count": null,
   "metadata": {},
   "outputs": [],
   "source": [
    "# Define the path to store original images and images augmented\n",
    "dst_path_HV = cfg['dst_path_HV']\n",
    "dst_path_BR = cfg['dst_path_BR']\n",
    "dst_path_DARK = cfg['dst_path_DARK']\n",
    "dst_path_NI = cfg['dst_path_NI']\n",
    "dst_path_MIX = cfg['dst_path_MIX']"
   ]
  },
  {
   "cell_type": "markdown",
   "metadata": {},
   "source": [
    "## Flipping"
   ]
  },
  {
   "cell_type": "code",
   "execution_count": 3,
   "metadata": {},
   "outputs": [],
   "source": [
    "for folder in folders:\n",
    "    srs_dir = rooter_path_DA + '/' + folder\n",
    "    sub_dst_path_HV = dst_path_HV + '/' + folder\n",
    "    files = os.listdir(srs_dir)\n",
    "    for file in files:\n",
    "        img = cv2.imread(srs_dir + '/' + str(file))\n",
    "        ver_img = cv2.flip(img, 0)\n",
    "        hor_img = cv2.flip(img, 1)\n",
    "        hor_ver_img = cv2.flip(img, -1)\n",
    "        # path = sub_dst_path_HV + '/' + str(file).replace('.jpg', '') + '_ver_flip' + '.jpg'\n",
    "        # print(path)\n",
    "        cv2.imwrite(sub_dst_path_HV + '/' + str(file).replace('.jpg', '') + '_ver_flip' + '.jpg', ver_img)\n",
    "        cv2.imwrite(sub_dst_path_HV + '/' + str(file).replace('.jpg', '') + '_hor_flip' + '.jpg', hor_img)\n",
    "        cv2.imwrite(sub_dst_path_HV + '/' + str(file).replace('.jpg', '') + '_hor_ver_flip' + '.jpg', hor_ver_img)\n",
    "        shutil.copyfile(srs_dir + '/' + str(file), sub_dst_path_HV + '/' + str(file))"
   ]
  },
  {
   "cell_type": "markdown",
   "metadata": {},
   "source": [
    "## Brightness variation"
   ]
  },
  {
   "cell_type": "code",
   "execution_count": null,
   "metadata": {},
   "outputs": [],
   "source": [
    "for folder in folders:\n",
    "    srs_dir = rooter_path_DA + '/' + folder\n",
    "    sub_dst_path_BR = dst_path_BR + '/' + folder\n",
    "    files = os.listdir(srs_dir)\n",
    "    for file in files:\n",
    "        img = Image.open(srs_dir + '/' + str(file))\n",
    "        bright_enhancer = ImageEnhance.Brightness(img)\n",
    "        new_image_1 = bright_enhancer.enhance(random.uniform(1.1, 1.4))\n",
    "        new_image_2 = bright_enhancer.enhance(random.uniform(1.1, 1.4))\n",
    "        new_image_3 = bright_enhancer.enhance(random.uniform(1.1, 1.4))\n",
    "        new_image_1.save(sub_dst_path_BR + '/' + str(file).replace('.jpg', '') + '_bright_1' + '.jpg')\n",
    "        new_image_2.save(sub_dst_path_BR + '/' + str(file).replace('.jpg', '') + '_bright_2' + '.jpg')\n",
    "        new_image_3.save(sub_dst_path_BR + '/' + str(file).replace('.jpg', '') + '_bright_3' + '.jpg')\n",
    "        shutil.copyfile(srs_dir + '/' + str(file), sub_dst_path_BR + '/' + str(file))"
   ]
  },
  {
   "cell_type": "markdown",
   "metadata": {},
   "source": [
    "## Darkness variation"
   ]
  },
  {
   "cell_type": "code",
   "execution_count": null,
   "metadata": {},
   "outputs": [],
   "source": [
    "for folder in folders:\n",
    "    srs_dir = rooter_path_DA + '/' + folder\n",
    "    sub_dst_path_DARK = dst_path_DARK + '/' + folder\n",
    "    files = os.listdir(srs_dir)\n",
    "    for file in files:\n",
    "        img = Image.open(srs_dir + '/' + str(file))\n",
    "        bright_enhancer = ImageEnhance.Brightness(img)\n",
    "        new_image_1 = bright_enhancer.enhance(random.uniform(0.6, 0.9))\n",
    "        new_image_2 = bright_enhancer.enhance(random.uniform(0.6, 0.9))\n",
    "        new_image_3 = bright_enhancer.enhance(random.uniform(0.6, 0.9))\n",
    "        new_image_1.save(sub_dst_path_DARK + '/' + str(file).replace('.jpg', '') + '_dark_1' + '.jpg')\n",
    "        new_image_2.save(sub_dst_path_DARK + '/' + str(file).replace('.jpg', '') + '_dark_2' + '.jpg')\n",
    "        new_image_3.save(sub_dst_path_DARK + '/' + str(file).replace('.jpg', '') + '_dark_3' + '.jpg')\n",
    "        shutil.copyfile(srs_dir + '/' + str(file), sub_dst_path_DARK + '/' + str(file))"
   ]
  },
  {
   "cell_type": "markdown",
   "metadata": {},
   "source": [
    "## Salt and Pepper noise"
   ]
  },
  {
   "cell_type": "code",
   "execution_count": null,
   "metadata": {},
   "outputs": [],
   "source": [
    "for folder in folders:\n",
    "    srs_dir = rooter_path_DA + '/' + folder\n",
    "    sub_dst_path_NI = dst_path_NI + '/' + folder\n",
    "    files = os.listdir(srs_dir)\n",
    "    for file in files:\n",
    "        img = cv2.imread(srs_dir + '/' + str(file))\n",
    "        noise_img_1 = random_noise(img, mode='s&p', amount=random.uniform(0.01, 0.15))\n",
    "        noise_img_1 = np.array(255*noise_img_1, dtype = 'uint8')\n",
    "        noise_img_2 = random_noise(img, mode='s&p', amount=random.uniform(0.01, 0.15))\n",
    "        noise_img_2 = np.array(255*noise_img_2, dtype          = 'uint8')\n",
    "        noise_img_3 = random_noise(img, mode='s&p', amount=random.uniform(0.01, 0.15))\n",
    "        noise_img_3 = np.array(255*noise_img_3, dtype = 'uint8')\n",
    "        cv2.imwrite(sub_dst_path_NI + '/' + str(file).replace('.jpg', '') + '_noise_1' + '.jpg', noise_img_1)\n",
    "        cv2.imwrite(sub_dst_path_NI + '/' + str(file).replace('.jpg', '') + '_noise_2' + '.jpg', noise_img_2)\n",
    "        cv2.imwrite(sub_dst_path_NI + '/' + str(file).replace('.jpg', '') + '_noise_3' + '.jpg', noise_img_3)\n",
    "        shutil.copyfile(srs_dir + '/' + str(file), sub_dst_path_NI + '/' + str(file))"
   ]
  },
  {
   "cell_type": "markdown",
   "metadata": {},
   "source": [
    "## Mix four DA methods"
   ]
  },
  {
   "cell_type": "code",
   "execution_count": null,
   "metadata": {},
   "outputs": [],
   "source": [
    "for folder in folders:\n",
    "    srs_dir = rooter_path_DA + '/' + folder\n",
    "    sub_dst_path_MIX = dst_path_MIX + '/' + folder\n",
    "    files = os.listdir(srs_dir)\n",
    "    for file in files:\n",
    "        \n",
    "        img = cv2.imread(srs_dir + '/' + str(file))\n",
    "        \n",
    "        # flipping\n",
    "        ver_img = cv2.flip(img, 0)\n",
    "        hor_img = cv2.flip(img, 1)\n",
    "        hor_ver_img = cv2.flip(img, -1)\n",
    "        cv2.imwrite(sub_dst_path_MIX + '/' + str(file).replace('.jpg', '') + '_ver_flip' + '.jpg', ver_img)\n",
    "        cv2.imwrite(sub_dst_path_MIX + '/' + str(file).replace('.jpg', '') + '_hor_flip' + '.jpg', hor_img)\n",
    "        cv2.imwrite(sub_dst_path_MIX + '/' + str(file).replace('.jpg', '') + '_hor_ver_flip' + '.jpg', hor_ver_img)\n",
    "     \n",
    "        #  Salt and Pepper noise\n",
    "        noise_img_1 = random_noise(img, mode='s&p', amount=random.uniform(0.01, 0.15))\n",
    "        noise_img_1 = np.array(255*noise_img_1, dtype = 'uint8')\n",
    "        noise_img_2 = random_noise(img, mode='s&p', amount=random.uniform(0.01, 0.15))\n",
    "        noise_img_2 = np.array(255*noise_img_2, dtype          = 'uint8')\n",
    "        noise_img_3 = random_noise(img, mode='s&p', amount=random.uniform(0.01, 0.15))\n",
    "        noise_img_3 = np.array(255*noise_img_3, dtype = 'uint8')\n",
    "        cv2.imwrite(sub_dst_path_MIX + '/' + str(file).replace('.jpg', '') + '_noise_1' + '.jpg', noise_img_1)\n",
    "        cv2.imwrite(sub_dst_path_MIX + '/' + str(file).replace('.jpg', '') + '_noise_2' + '.jpg', noise_img_2)\n",
    "        cv2.imwrite(sub_dst_path_MIX + '/' + str(file).replace('.jpg', '') + '_noise_3' + '.jpg', noise_img_3)\n",
    "\n",
    "        # brightening and darkening\n",
    "        img = Image.open(srs_dir + '/' + str(file))\n",
    "        bright_enhancer = ImageEnhance.Brightness(img)\n",
    "        new_image_1 = bright_enhancer.enhance(random.uniform(1.1, 1.4))\n",
    "        new_image_2 = bright_enhancer.enhance(random.uniform(1.1, 1.4))\n",
    "        new_image_3 = bright_enhancer.enhance(random.uniform(1.1, 1.4))\n",
    "        new_image_1.save(sub_dst_path_MIX + '/' + str(file).replace('.jpg', '') + '_bright_1' + '.jpg')\n",
    "        new_image_2.save(sub_dst_path_MIX + '/' + str(file).replace('.jpg', '') + '_bright_2' + '.jpg')\n",
    "        new_image_3.save(sub_dst_path_MIX + '/' + str(file).replace('.jpg', '') + '_bright_3' + '.jpg')\n",
    "\n",
    "        new_image_4 = bright_enhancer.enhance(random.uniform(0.6, 0.9))\n",
    "        new_image_5 = bright_enhancer.enhance(random.uniform(0.6, 0.9))\n",
    "        new_image_6 = bright_enhancer.enhance(random.uniform(0.6, 0.9))\n",
    "        new_image_4.save(sub_dst_path_MIX + '/' + str(file).replace('.jpg', '') + '_dark_1' + '.jpg')\n",
    "        new_image_5.save(sub_dst_path_MIX + '/' + str(file).replace('.jpg', '') + '_dark_2' + '.jpg')\n",
    "        new_image_6.save(sub_dst_path_MIX + '/' + str(file).replace('.jpg', '') + '_dark_3' + '.jpg')\n",
    "\n",
    "        shutil.copyfile(srs_dir + '/' + str(file),\n",
    "                        sub_dst_path_MIX + '/' + str(file))\n"
   ]
  }
 ],
 "metadata": {
  "kernelspec": {
   "display_name": "Python 3.8.5 ('DP_tf_2.6')",
   "language": "python",
   "name": "python3"
  },
  "language_info": {
   "codemirror_mode": {
    "name": "ipython",
    "version": 3
   },
   "file_extension": ".py",
   "mimetype": "text/x-python",
   "name": "python",
   "nbconvert_exporter": "python",
   "pygments_lexer": "ipython3",
   "version": "3.8.5"
  },
  "toc": {
   "base_numbering": 1,
   "nav_menu": {},
   "number_sections": true,
   "sideBar": true,
   "skip_h1_title": false,
   "title_cell": "Table of Contents",
   "title_sidebar": "Contents",
   "toc_cell": false,
   "toc_position": {},
   "toc_section_display": true,
   "toc_window_display": false
  },
  "vscode": {
   "interpreter": {
    "hash": "02a9bb87e7ed71d24a2ebc89c433b3cf6535eba82982e54a30fa825081488b7d"
   }
  }
 },
 "nbformat": 4,
 "nbformat_minor": 4
}
