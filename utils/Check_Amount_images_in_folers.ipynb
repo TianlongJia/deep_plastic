{
 "cells": [
  {
   "cell_type": "markdown",
   "metadata": {},
   "source": [
    "### Check the amount of images in folders"
   ]
  },
  {
   "cell_type": "code",
   "execution_count": 5,
   "metadata": {},
   "outputs": [
    {
     "name": "stdout",
     "output_type": "stream",
     "text": [
      "images amount in F:\\Tianlong\\Data\\Deep_Plastic\\Data\\Exp3\\Train 3_Val 2 (not all data)\\split\\test is 194\n"
     ]
    }
   ],
   "source": [
    "import os\n",
    "\n",
    "\n",
    "# ori_path = r\"F:\\Tianlong\\Data\\Deep_Plastic\\Data\\Exp3\\Train 3_Val 2\\80%_train_all_exc_27m_0deg\\train\"\n",
    "ori_path = r\"F:\\Tianlong\\Data\\Deep_Plastic\\Data\\Exp3\\Train 3_Val 2 (not all data)\\split\\test\"\n",
    "\n",
    "folders = os.listdir(ori_path)\n",
    "Amount_images = 0\n",
    "\n",
    "for folder in folders:\n",
    "    dir = ori_path + '/' + str(folder)\n",
    "    files = os.listdir(dir)\n",
    "    Amount_images = Amount_images + files.__len__()\n",
    "print(\"images amount in %s is %s\" % (ori_path, Amount_images))\n",
    "\n",
    "\n",
    "\n",
    "\n"
   ]
  },
  {
   "cell_type": "code",
   "execution_count": null,
   "metadata": {},
   "outputs": [],
   "source": []
  }
 ],
 "metadata": {
  "kernelspec": {
   "display_name": "Python 3.8.5 ('DP_tf_2.6')",
   "language": "python",
   "name": "python3"
  },
  "language_info": {
   "codemirror_mode": {
    "name": "ipython",
    "version": 3
   },
   "file_extension": ".py",
   "mimetype": "text/x-python",
   "name": "python",
   "nbconvert_exporter": "python",
   "pygments_lexer": "ipython3",
   "version": "3.8.5"
  },
  "orig_nbformat": 4,
  "vscode": {
   "interpreter": {
    "hash": "02a9bb87e7ed71d24a2ebc89c433b3cf6535eba82982e54a30fa825081488b7d"
   }
  }
 },
 "nbformat": 4,
 "nbformat_minor": 2
}
