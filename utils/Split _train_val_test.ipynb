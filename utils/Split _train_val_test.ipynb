{
 "cells": [
  {
   "attachments": {},
   "cell_type": "markdown",
   "metadata": {},
   "source": [
    "## Split data into three sets (train, validation, and test)\n",
    "Split folders with files (e.g. images)"
   ]
  },
  {
   "cell_type": "code",
   "execution_count": 2,
   "metadata": {},
   "outputs": [],
   "source": [
    "# Split folders with files (e.g. images) into training, validation and test (dataset) folders.\n",
    "# reference:\n",
    "#      https://medium.com/nerd-for-tech/easily-split-your-directory-into-train-validation-and-testing-format-f1359f34dd93\n",
    "\n",
    "\n",
    "import splitfolders\n",
    "\n",
    "input_directory=r\"F:\\Tianlong\\Data\\Deep_Plastic\\Data\\Exp3\\Train 3_Val 2 (not all data)\\train_all_exc_27m_0deg\"\n",
    "\n",
    "output_directory=r\"F:\\Tianlong\\Data\\Deep_Plastic\\Data\\Exp3\\Train 3_Val 2 (not all data)\\split\"\n",
    "\n",
    "splitfolders.ratio(input_directory, # The location of dataset\n",
    "                   output=output_directory, # The output location\n",
    "                   seed=42, # The number of seed\n",
    "                  #  ratio=(.8, .2), # The ratio of splited dataset\n",
    "                   ratio=(.8, .1, .1), # The ratio of splited dataset\n",
    "                   group_prefix=None, # If your dataset contains more than one file like \".jpg\", \".pdf\", etc\n",
    "                   move=False # If you choose to move, turn this into True\n",
    "                   )"
   ]
  }
 ],
 "metadata": {
  "kernelspec": {
   "display_name": "Python 3.8.5 ('DP_tf_2.6')",
   "language": "python",
   "name": "python3"
  },
  "language_info": {
   "codemirror_mode": {
    "name": "ipython",
    "version": 3
   },
   "file_extension": ".py",
   "mimetype": "text/x-python",
   "name": "python",
   "nbconvert_exporter": "python",
   "pygments_lexer": "ipython3",
   "version": "3.8.5"
  },
  "orig_nbformat": 4,
  "vscode": {
   "interpreter": {
    "hash": "02a9bb87e7ed71d24a2ebc89c433b3cf6535eba82982e54a30fa825081488b7d"
   }
  }
 },
 "nbformat": 4,
 "nbformat_minor": 2
}
