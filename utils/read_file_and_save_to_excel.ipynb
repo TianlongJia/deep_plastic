{
 "cells": [
  {
   "cell_type": "code",
   "execution_count": 2,
   "metadata": {},
   "outputs": [],
   "source": [
    "import os\n",
    "import sys\n",
    "import xlwings as xw\n",
    "\n",
    "\n",
    "face_path = r'F:\\Tianlong\\Data\\Deep_Plastic\\Results\\Exp1\\Model_no_rescale_layer\\Grad_cam_results\\Densenet_TL_all_0.0001_last_layer_bn_Test2'\n",
    "excel_path=r'F:\\Tianlong\\Data\\Deep_Plastic\\Results\\Exp1\\Model_no_rescale_layer\\Grad_cam_results\\test.xlsx'\n",
    "\n",
    "pathDir = os.listdir(face_path)\n",
    "app = xw.App(visible = True,add_book = False)  \n",
    "\n",
    "workbook = app.books.open(excel_path)\n",
    "worksheet = workbook.sheets[\"Sheet3\"]   \n",
    "\n",
    "j = 2\n",
    "for i in pathDir:\n",
    "    worksheet.range('A'+str(j)).options(transpose=True).value = i \n",
    "    # worksheet.range('A'+str(j)).options(transpose=True).value = i.split('.')[0] \n",
    "    j+=1\n",
    "\n",
    "workbook.save(excel_path)\n",
    "workbook.close()\n",
    "app.quit()\n"
   ]
  }
 ],
 "metadata": {
  "kernelspec": {
   "display_name": "Python 3.8.5 ('DP_tf_2.6')",
   "language": "python",
   "name": "python3"
  },
  "language_info": {
   "codemirror_mode": {
    "name": "ipython",
    "version": 3
   },
   "file_extension": ".py",
   "mimetype": "text/x-python",
   "name": "python",
   "nbconvert_exporter": "python",
   "pygments_lexer": "ipython3",
   "version": "3.8.5"
  },
  "orig_nbformat": 4,
  "vscode": {
   "interpreter": {
    "hash": "02a9bb87e7ed71d24a2ebc89c433b3cf6535eba82982e54a30fa825081488b7d"
   }
  }
 },
 "nbformat": 4,
 "nbformat_minor": 2
}
